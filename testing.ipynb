{
 "cells": [
  {
   "cell_type": "code",
   "execution_count": 2,
   "id": "ad56f842",
   "metadata": {},
   "outputs": [],
   "source": [
    "import cv2\n",
    "import numpy as np\n",
    "import joblib\n",
    "from skimage.feature import local_binary_pattern, hog"
   ]
  },
  {
   "cell_type": "code",
   "execution_count": 3,
   "id": "c224c897",
   "metadata": {},
   "outputs": [],
   "source": [
    "# ========== تحميل الأدوات ==========\n",
    "scaler = joblib.load(\"scaler.pkl\")\n",
    "pca = joblib.load(\"pca.pkl\")\n",
    "svm_model = joblib.load(\"svm_model.pkl\")"
   ]
  },
  {
   "cell_type": "code",
   "execution_count": 4,
   "id": "da265db7",
   "metadata": {},
   "outputs": [],
   "source": [
    "# ========== دوال استخراج الميزات ==========\n",
    "def extract_lbp_features(images, P=8, R=1):\n",
    "    features = []\n",
    "    for img in images:\n",
    "        lbp = local_binary_pattern(img, P, R, method=\"uniform\")\n",
    "        hist, _ = np.histogram(lbp.ravel(), bins=np.arange(0, P+3), range=(0, P+2))\n",
    "        hist = hist.astype(\"float\")\n",
    "        hist /= (hist.sum() + 1e-7)\n",
    "        features.append(hist)\n",
    "    return np.array(features)\n",
    "\n",
    "def extract_hog_features(images):\n",
    "    features = []\n",
    "    for img in images:\n",
    "        hog_features, _ = hog(img, pixels_per_cell=(16, 16),\n",
    "                              cells_per_block=(2, 2),\n",
    "                              visualize=True, feature_vector=True)\n",
    "        features.append(hog_features)\n",
    "    return np.array(features)\n",
    "\n",
    "def preprocess_image(img_path, img_size=(224,224)):\n",
    "    img = cv2.imread(img_path, cv2.IMREAD_GRAYSCALE)\n",
    "    img = cv2.resize(img, img_size)\n",
    "\n",
    "    # تحويل إلى شكل [1, H, W]\n",
    "    X = np.array([img])\n",
    "\n",
    "    # استخراج الميزات\n",
    "    X_lbp = extract_lbp_features(X)\n",
    "    X_hog = extract_hog_features(X)\n",
    "\n",
    "    # دمج\n",
    "    X_features = np.hstack([X_lbp, X_hog])\n",
    "\n",
    "    # scaling + pca\n",
    "    X_scaled = scaler.transform(X_features)\n",
    "    X_pca = pca.transform(X_scaled)\n",
    "\n",
    "    return X_pca"
   ]
  },
  {
   "cell_type": "code",
   "execution_count": 5,
   "id": "df0937e9",
   "metadata": {},
   "outputs": [
    {
     "name": "stdout",
     "output_type": "stream",
     "text": [
      "\n",
      "Prediction Result:\n",
      "Diagnosis: (Healthy)\n",
      "Confidence: 85.53%\n"
     ]
    }
   ],
   "source": [
    "# ========== التنبؤ ==========\n",
    "img_path = input(\"Enter image path: \").strip()\n",
    "\n",
    "features = preprocess_image(img_path)\n",
    "y_pred = svm_model.predict(features)\n",
    "y_prob = svm_model.predict_proba(features)[0]\n",
    "\n",
    "label = \"(MS)\" if y_pred[0] == 1 else \"(Healthy)\"\n",
    "\n",
    "print(\"\\nPrediction Result:\")\n",
    "print(f\"Diagnosis: {label}\")\n",
    "print(f\"Confidence: {y_prob[y_pred[0]]*100:.2f}%\")\n"
   ]
  }
 ],
 "metadata": {
  "kernelspec": {
   "display_name": ".venv",
   "language": "python",
   "name": "python3"
  },
  "language_info": {
   "codemirror_mode": {
    "name": "ipython",
    "version": 3
   },
   "file_extension": ".py",
   "mimetype": "text/x-python",
   "name": "python",
   "nbconvert_exporter": "python",
   "pygments_lexer": "ipython3",
   "version": "3.9.6"
  }
 },
 "nbformat": 4,
 "nbformat_minor": 5
}
